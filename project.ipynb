{
 "cells": [
  {
   "cell_type": "markdown",
   "metadata": {},
   "source": [
    "# Overview\n",
    "- Goal: Predict future stock prices based on historical data using a simple regression model\n",
    "- Concepts Covered: Time series forecasting, feature extraction, regression."
   ]
  },
  {
   "cell_type": "markdown",
   "metadata": {},
   "source": [
    "# Tools/Packages\n",
    "Make sure you have the following Python packages installed:\n",
    "```pip install pandas numpy matplotlib scikit-learn yfinance```"
   ]
  },
  {
   "cell_type": "markdown",
   "metadata": {},
   "source": [
    "## Step 1: Import Libraries\n",
    "Start by importing the necessary libraries"
   ]
  },
  {
   "cell_type": "code",
   "execution_count": 1,
   "metadata": {},
   "outputs": [],
   "source": [
    "# Standard imports\n",
    "from datetime import datetime\n",
    "\n",
    "# Third-party imports\n",
    "import numpy as np\n",
    "import pandas as pd\n",
    "import matplotlib.pyplot as plt\n",
    "import yfinance as yf\n",
    "from sklearn.linear_model import LinearRegression\n",
    "from sklearn.model_selection import train_test_split"
   ]
  },
  {
   "cell_type": "markdown",
   "metadata": {},
   "source": [
    "## Step 2: Fetch Stock Data\n",
    "Use the ```yfinance``` library to fetch historical stock data. For example, let's use Nvidia (NVDA):"
   ]
  },
  {
   "cell_type": "code",
   "execution_count": null,
   "metadata": {},
   "outputs": [],
   "source": [
    "# Fetch stock data\n",
    "stock_data = yf.download(\"NVDA\", start=\"2020-01-01\", end=\"2024-12-31\")\n",
    "print(stock_data.head())"
   ]
  },
  {
   "cell_type": "markdown",
   "metadata": {},
   "source": [
    "## Step 3: Data Preparation\n",
    "Prepare the data for prediction analysis:"
   ]
  },
  {
   "cell_type": "code",
   "execution_count": 45,
   "metadata": {},
   "outputs": [],
   "source": [
    "# Use the 'Close' price for predictions\n",
    "stock_data['Date'] = stock_data.index\n",
    "stock_data['Date'] = pd.to_datetime(stock_data['Date'])\n",
    "stock_data['Day'] = (stock_data['Date'] - stock_data['Date'].min()).dt.days\n",
    "\n",
    "# Features and target\n",
    "X = stock_data[['Day']].values # Independent variable: Days\n",
    "y = stock_data['Close'].values # Dependent variable: Close prices\n",
    "\n",
    "# Split into training and testing datasets\n",
    "\n",
    "X_train, X_test, y_train, y_test = train_test_split(X, y, test_size=0.2, random_state=42)"
   ]
  },
  {
   "cell_type": "markdown",
   "metadata": {},
   "source": [
    "## Step 4: Train the Model\n",
    "Fit a simple linear regression model:"
   ]
  },
  {
   "cell_type": "code",
   "execution_count": null,
   "metadata": {},
   "outputs": [],
   "source": [
    "# Create and train the model\n",
    "model = LinearRegression()\n",
    "model.fit(X_train, y_train)\n",
    "\n",
    "# Evaluate model\n",
    "print(f\"Model R^2 Score {model.score(X_test, y_test):.2f}\")"
   ]
  },
  {
   "cell_type": "markdown",
   "metadata": {},
   "source": [
    "## Step 5: Make Predictions\n",
    "Predict stock prices using the model:"
   ]
  },
  {
   "cell_type": "code",
   "execution_count": null,
   "metadata": {},
   "outputs": [],
   "source": [
    "# Make Predictions\n",
    "future_days = np.array(range(X[-1][0] + 1, X[-1][0] + 366)).reshape(-1, 1)  # Ensure 365 predictions\n",
    "predicted_prices = model.predict(future_days)\n",
    "\n",
    "# Convert future_days to actual dates\n",
    "future_dates = pd.date_range(start=stock_data['Date'].iloc[-1], periods=365)\n",
    "\n",
    "# Plot predictions with dates on the x-axis\n",
    "plt.figure(figsize=(12, 6))\n",
    "\n",
    "# Plot historical prices\n",
    "plt.plot(stock_data['Date'], stock_data['Close'], label=\"Historical Prices\")\n",
    "\n",
    "# Plot predicted prices\n",
    "plt.plot(future_dates, predicted_prices, label=\"Predicted Prices\", linestyle=\"--\")\n",
    "\n",
    "# Add labels, title, and legend\n",
    "plt.xlabel(\"Date\")\n",
    "plt.ylabel(\"Stock Price (USD)\")\n",
    "plt.title(\"Stock Price Prediction\")\n",
    "plt.legend()\n",
    "\n",
    "# Rotate x-axis labels for better readability\n",
    "plt.xticks(rotation=45)\n",
    "plt.tight_layout()\n",
    "\n",
    "# Show the plot\n",
    "plt.show()"
   ]
  },
  {
   "cell_type": "code",
   "execution_count": null,
   "metadata": {},
   "outputs": [],
   "source": [
    "## Step 6: Feature Engineering\n",
    "# Add technical indicators as new features\n",
    "stock_data['MA20'] = stock_data['Close'].rolling(window=20).mean()  # 20-day moving average\n",
    "stock_data['MA50'] = stock_data['Close'].rolling(window=50).mean()  # 50-day moving average\n",
    "\n",
    "# Add price momentum\n",
    "stock_data['Returns'] = stock_data['Close'].pct_change()\n",
    "stock_data['Volatility'] = stock_data['Returns'].rolling(window=20).std()\n",
    "\n",
    "# Remove NaN values from the new features\n",
    "stock_data = stock_data.dropna()\n",
    "\n",
    "# Update features for prediction\n",
    "X = stock_data[['Day', 'MA20', 'MA50', 'Volatility']].values\n",
    "y = stock_data['Close'].values\n",
    "\n",
    "# Split the enhanced dataset\n",
    "X_train, X_test, y_train, y_test = train_test_split(X, y, test_size=0.2, random_state=42)\n",
    "\n",
    "## Step 7: Model Evaluation\n",
    "from sklearn.metrics import mean_absolute_error, mean_squared_error\n",
    "import numpy as np\n",
    "\n",
    "# Train the model with new features\n",
    "model = LinearRegression()\n",
    "model.fit(X_train, y_train)\n",
    "\n",
    "# Make predictions on test set\n",
    "y_pred = model.predict(X_test)\n",
    "\n",
    "# Calculate error metrics\n",
    "mae = mean_absolute_error(y_test, y_pred)\n",
    "rmse = np.sqrt(mean_squared_error(y_test, y_pred))\n",
    "mape = np.mean(np.abs((y_test - y_pred) / y_test)) * 100\n",
    "\n",
    "print(f\"Mean Absolute Error: ${mae:.2f}\")\n",
    "print(f\"Root Mean Squared Error: ${rmse:.2f}\")\n",
    "print(f\"Mean Absolute Percentage Error: {mape:.2f}%\")"
   ]
  },
  {
   "cell_type": "code",
   "execution_count": null,
   "metadata": {},
   "outputs": [],
   "source": [
    "#Step 7"
   ]
  }
 ],
 "metadata": {
  "kernelspec": {
   "display_name": "Python 3",
   "language": "python",
   "name": "python3"
  },
  "language_info": {
   "codemirror_mode": {
    "name": "ipython",
    "version": 3
   },
   "file_extension": ".py",
   "mimetype": "text/x-python",
   "name": "python",
   "nbconvert_exporter": "python",
   "pygments_lexer": "ipython3",
   "version": "undefined.undefined.undefined"
  }
 },
 "nbformat": 4,
 "nbformat_minor": 2
}
